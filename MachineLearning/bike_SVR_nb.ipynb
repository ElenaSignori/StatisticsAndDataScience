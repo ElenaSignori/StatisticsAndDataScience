{
 "cells": [
  {
   "cell_type": "markdown",
   "metadata": {},
   "source": [
    "## Support Vector Machine (Regression) - Seoul Bike Sharing Data"
   ]
  },
  {
   "cell_type": "markdown",
   "metadata": {},
   "source": [
    "Carico moduli necessari:"
   ]
  },
  {
   "cell_type": "code",
   "execution_count": 2,
   "metadata": {},
   "outputs": [],
   "source": [
    "from sklearn import svm\n",
    "from sklearn.preprocessing import StandardScaler\n",
    "from sklearn.metrics import mean_squared_error\n",
    "from utils.pyutils import rmse\n",
    "from utils.pyutils import round_pred\n",
    "from utils.pyutils import print_model_scores\n",
    "\n",
    "import pickle\n",
    "import pandas as pd\n",
    "import numpy as np\n",
    "import itertools"
   ]
  },
  {
   "cell_type": "markdown",
   "metadata": {},
   "source": [
    "Carico dati:"
   ]
  },
  {
   "cell_type": "code",
   "execution_count": 2,
   "metadata": {},
   "outputs": [],
   "source": [
    "bike_train = pd.read_csv(\"data/bike_train_dummy.csv\")\n",
    "bike_test = pd.read_csv(\"data/bike_test_dummy.csv\")\n",
    "bike_valid = pd.read_csv(\"data/bike_valid_dummy.csv\")"
   ]
  },
  {
   "cell_type": "code",
   "execution_count": 3,
   "metadata": {},
   "outputs": [
    {
     "name": "stdout",
     "output_type": "stream",
     "text": [
      "(6307, 33) (876, 33) (1577, 33)\n"
     ]
    }
   ],
   "source": [
    "print(bike_train.shape, bike_test.shape, bike_valid.shape)"
   ]
  },
  {
   "cell_type": "markdown",
   "metadata": {},
   "source": [
    "## Support Vector Regression - all predictors"
   ]
  },
  {
   "cell_type": "markdown",
   "metadata": {},
   "source": [
    "Converti i dati in array numpy:"
   ]
  },
  {
   "cell_type": "code",
   "execution_count": 3,
   "metadata": {},
   "outputs": [],
   "source": [
    "columns = bike_train.columns\n",
    "\n",
    "X_train, y_train = np.array(bike_train[[col for col in columns if col != \"rented_bike_count\"]]), np.array(bike_train[\"rented_bike_count\"])\n",
    "X_test, y_test = np.array(bike_test[[col for col in columns if col != \"rented_bike_count\"]]), np.array(bike_test[\"rented_bike_count\"])\n",
    "X_valid, y_valid = np.array(bike_valid[[col for col in columns if col != \"rented_bike_count\"]]), np.array(bike_valid[\"rented_bike_count\"])\n",
    "\n",
    "scaler = StandardScaler()\n",
    "X_train = scaler.fit_transform(X_train)\n",
    "X_valid = scaler.transform(X_valid)\n",
    "X_test = scaler.transform(X_test)"
   ]
  },
  {
   "cell_type": "markdown",
   "metadata": {},
   "source": [
    "### Modeling"
   ]
  },
  {
   "cell_type": "markdown",
   "metadata": {},
   "source": [
    "#### Suppor Vector Regression 1 - linear kernel"
   ]
  },
  {
   "cell_type": "code",
   "execution_count": 4,
   "metadata": {},
   "outputs": [
    {
     "data": {
      "text/plain": [
       "SVR(kernel='linear')"
      ]
     },
     "execution_count": 4,
     "metadata": {},
     "output_type": "execute_result"
    }
   ],
   "source": [
    "bike_SVR1 = svm.SVR(kernel=\"linear\")\n",
    "bike_SVR1.fit(X_train, y_train)"
   ]
  },
  {
   "cell_type": "markdown",
   "metadata": {},
   "source": [
    "Save / Load model"
   ]
  },
  {
   "cell_type": "code",
   "execution_count": 5,
   "metadata": {},
   "outputs": [],
   "source": [
    "pkl_path = \"models\\\\bike_SVR1.pkl\"\n",
    "\n",
    "# with open(pkl_path, 'wb') as file:\n",
    "#     pickle.dump(bike_SVR1, file)\n",
    "\n",
    "with open(pkl_path, 'rb') as file:\n",
    "    bike_SVR1 = pickle.load(file)"
   ]
  },
  {
   "cell_type": "markdown",
   "metadata": {},
   "source": [
    "#### RMSE"
   ]
  },
  {
   "cell_type": "code",
   "execution_count": 8,
   "metadata": {},
   "outputs": [
    {
     "name": "stdout",
     "output_type": "stream",
     "text": [
      "Training RMSE:  431.84145325382417\n",
      "Validation RMSE:  436.97111632198636\n",
      "Testing RMSE:  439.09611132093727\n"
     ]
    }
   ],
   "source": [
    "print_model_scores(bike_SVR1, X_train, X_valid, X_test, y_train, y_valid, y_test)"
   ]
  },
  {
   "cell_type": "markdown",
   "metadata": {},
   "source": [
    "#### Suppor Vector Regression 2 - rbf kernel"
   ]
  },
  {
   "cell_type": "markdown",
   "metadata": {},
   "source": [
    "##### Default model"
   ]
  },
  {
   "cell_type": "code",
   "execution_count": 9,
   "metadata": {},
   "outputs": [
    {
     "data": {
      "text/plain": [
       "SVR()"
      ]
     },
     "execution_count": 9,
     "metadata": {},
     "output_type": "execute_result"
    }
   ],
   "source": [
    "bike_SVR2 = svm.SVR(kernel=\"rbf\")\n",
    "bike_SVR2.fit(X_train, y_train)"
   ]
  },
  {
   "cell_type": "code",
   "execution_count": 10,
   "metadata": {},
   "outputs": [
    {
     "name": "stdout",
     "output_type": "stream",
     "text": [
      "Training RMSE:  585.5843898973519\n",
      "Validation RMSE:  586.3957091511187\n",
      "Testing RMSE:  592.6727615498329\n"
     ]
    }
   ],
   "source": [
    "print_model_scores(bike_SVR2, X_train, X_valid, X_test, y_train, y_valid, y_test)"
   ]
  },
  {
   "cell_type": "markdown",
   "metadata": {},
   "source": [
    "##### Hyperparameter Search"
   ]
  },
  {
   "cell_type": "code",
   "execution_count": 23,
   "metadata": {},
   "outputs": [],
   "source": [
    "gamma = [0.01, 0.1, 0.2, 0.5, 1]\n",
    "C = [0.01, 0.1, 1, 10, 100]\n",
    "epsilon = [0.05, 0.1, 0.15, 0.2, 0.5]\n",
    "\n",
    "train_rmse = list()\n",
    "valid_rmse = list()\n",
    "\n",
    "hyper_grid = list(itertools.product(gamma, C, epsilon))"
   ]
  },
  {
   "cell_type": "code",
   "execution_count": 24,
   "metadata": {},
   "outputs": [],
   "source": [
    "for hp in hyper_grid:\n",
    "    model = svm.SVR(kernel=\"rbf\", gamma=hp[0], C=hp[1], epsilon=hp[2])\n",
    "    model.fit(X_train, y_train)\n",
    "\n",
    "    pred_train = round_pred(model, X_train)\n",
    "    pred_valid = round_pred(model, X_valid)\n",
    "    \n",
    "    train_rmse.append(rmse(y_train, pred_train))\n",
    "    valid_rmse.append(rmse(y_valid, pred_valid))"
   ]
  },
  {
   "cell_type": "code",
   "execution_count": 25,
   "metadata": {},
   "outputs": [],
   "source": [
    "hyper_grid_df = pd.DataFrame(hyper_grid)\n",
    "hyper_grid_df.columns = [\"gamma\", \"C\", \"epsilon\"]\n",
    "hyper_grid_df[\"train_rmse\"] = train_rmse\n",
    "hyper_grid_df[\"valid_rmse\"] = valid_rmse"
   ]
  },
  {
   "cell_type": "markdown",
   "metadata": {},
   "source": [
    "Carica hyperparameter grid da csv:"
   ]
  },
  {
   "cell_type": "code",
   "execution_count": 3,
   "metadata": {},
   "outputs": [
    {
     "data": {
      "text/html": [
       "<div>\n",
       "<style scoped>\n",
       "    .dataframe tbody tr th:only-of-type {\n",
       "        vertical-align: middle;\n",
       "    }\n",
       "\n",
       "    .dataframe tbody tr th {\n",
       "        vertical-align: top;\n",
       "    }\n",
       "\n",
       "    .dataframe thead th {\n",
       "        text-align: right;\n",
       "    }\n",
       "</style>\n",
       "<table border=\"1\" class=\"dataframe\">\n",
       "  <thead>\n",
       "    <tr style=\"text-align: right;\">\n",
       "      <th></th>\n",
       "      <th>Unnamed: 0</th>\n",
       "      <th>gamma</th>\n",
       "      <th>C</th>\n",
       "      <th>epsilon</th>\n",
       "      <th>train_rmse</th>\n",
       "      <th>valid_rmse</th>\n",
       "    </tr>\n",
       "  </thead>\n",
       "  <tbody>\n",
       "    <tr>\n",
       "      <th>49</th>\n",
       "      <td>49</td>\n",
       "      <td>0.10</td>\n",
       "      <td>100.0</td>\n",
       "      <td>0.50</td>\n",
       "      <td>318.594420</td>\n",
       "      <td>335.006462</td>\n",
       "    </tr>\n",
       "    <tr>\n",
       "      <th>48</th>\n",
       "      <td>48</td>\n",
       "      <td>0.10</td>\n",
       "      <td>100.0</td>\n",
       "      <td>0.20</td>\n",
       "      <td>318.592674</td>\n",
       "      <td>335.017029</td>\n",
       "    </tr>\n",
       "    <tr>\n",
       "      <th>45</th>\n",
       "      <td>45</td>\n",
       "      <td>0.10</td>\n",
       "      <td>100.0</td>\n",
       "      <td>0.05</td>\n",
       "      <td>318.592677</td>\n",
       "      <td>335.024610</td>\n",
       "    </tr>\n",
       "    <tr>\n",
       "      <th>46</th>\n",
       "      <td>46</td>\n",
       "      <td>0.10</td>\n",
       "      <td>100.0</td>\n",
       "      <td>0.10</td>\n",
       "      <td>318.591149</td>\n",
       "      <td>335.025303</td>\n",
       "    </tr>\n",
       "    <tr>\n",
       "      <th>47</th>\n",
       "      <td>47</td>\n",
       "      <td>0.10</td>\n",
       "      <td>100.0</td>\n",
       "      <td>0.15</td>\n",
       "      <td>318.588984</td>\n",
       "      <td>335.028075</td>\n",
       "    </tr>\n",
       "    <tr>\n",
       "      <th>24</th>\n",
       "      <td>24</td>\n",
       "      <td>0.01</td>\n",
       "      <td>100.0</td>\n",
       "      <td>0.50</td>\n",
       "      <td>363.546404</td>\n",
       "      <td>368.418994</td>\n",
       "    </tr>\n",
       "    <tr>\n",
       "      <th>21</th>\n",
       "      <td>21</td>\n",
       "      <td>0.01</td>\n",
       "      <td>100.0</td>\n",
       "      <td>0.10</td>\n",
       "      <td>363.575616</td>\n",
       "      <td>368.431657</td>\n",
       "    </tr>\n",
       "    <tr>\n",
       "      <th>23</th>\n",
       "      <td>23</td>\n",
       "      <td>0.01</td>\n",
       "      <td>100.0</td>\n",
       "      <td>0.20</td>\n",
       "      <td>363.564501</td>\n",
       "      <td>368.433728</td>\n",
       "    </tr>\n",
       "    <tr>\n",
       "      <th>22</th>\n",
       "      <td>22</td>\n",
       "      <td>0.01</td>\n",
       "      <td>100.0</td>\n",
       "      <td>0.15</td>\n",
       "      <td>363.571500</td>\n",
       "      <td>368.434209</td>\n",
       "    </tr>\n",
       "    <tr>\n",
       "      <th>20</th>\n",
       "      <td>20</td>\n",
       "      <td>0.01</td>\n",
       "      <td>100.0</td>\n",
       "      <td>0.05</td>\n",
       "      <td>363.577386</td>\n",
       "      <td>368.434451</td>\n",
       "    </tr>\n",
       "  </tbody>\n",
       "</table>\n",
       "</div>"
      ],
      "text/plain": [
       "    Unnamed: 0  gamma      C  epsilon  train_rmse  valid_rmse\n",
       "49          49   0.10  100.0     0.50  318.594420  335.006462\n",
       "48          48   0.10  100.0     0.20  318.592674  335.017029\n",
       "45          45   0.10  100.0     0.05  318.592677  335.024610\n",
       "46          46   0.10  100.0     0.10  318.591149  335.025303\n",
       "47          47   0.10  100.0     0.15  318.588984  335.028075\n",
       "24          24   0.01  100.0     0.50  363.546404  368.418994\n",
       "21          21   0.01  100.0     0.10  363.575616  368.431657\n",
       "23          23   0.01  100.0     0.20  363.564501  368.433728\n",
       "22          22   0.01  100.0     0.15  363.571500  368.434209\n",
       "20          20   0.01  100.0     0.05  363.577386  368.434451"
      ]
     },
     "execution_count": 3,
     "metadata": {},
     "output_type": "execute_result"
    }
   ],
   "source": [
    "# hyper_grid_df.to_csv(\"models\\\\svm_rbf_hypergrid.csv\")\n",
    "hyper_grid_df = pd.read_csv(\"models\\\\svm_rbf_hypergrid.csv\")\n",
    "hyper_grid_df.sort_values(by = \"valid_rmse\").head(10)"
   ]
  },
  {
   "cell_type": "markdown",
   "metadata": {},
   "source": [
    "##### Fit best model"
   ]
  },
  {
   "cell_type": "code",
   "execution_count": 28,
   "metadata": {},
   "outputs": [
    {
     "data": {
      "text/plain": [
       "SVR(C=100, epsilon=0.5, gamma=0.1)"
      ]
     },
     "execution_count": 28,
     "metadata": {},
     "output_type": "execute_result"
    }
   ],
   "source": [
    "bike_SVR2_tuned = svm.SVR(kernel=\"rbf\", gamma=0.1, C=100, epsilon=0.5)\n",
    "bike_SVR2_tuned.fit(X_train, y_train)"
   ]
  },
  {
   "cell_type": "markdown",
   "metadata": {},
   "source": [
    "Save / Load model "
   ]
  },
  {
   "cell_type": "code",
   "execution_count": 30,
   "metadata": {},
   "outputs": [],
   "source": [
    "pkl_path = \"models\\\\bike_SVR2_tuned.pkl\"\n",
    "\n",
    "# with open(pkl_path, 'wb') as file:\n",
    "#     pickle.dump(bike_SVR2_tuned, file)\n",
    "\n",
    "with open(pkl_path, 'rb') as file:\n",
    "    bike_SVR2_tuned = pickle.load(file)"
   ]
  },
  {
   "cell_type": "markdown",
   "metadata": {},
   "source": [
    "#### RMSE"
   ]
  },
  {
   "cell_type": "code",
   "execution_count": 32,
   "metadata": {},
   "outputs": [
    {
     "name": "stdout",
     "output_type": "stream",
     "text": [
      "Training RMSE:  318.59442027407897\n",
      "Validation RMSE:  335.0064622361973\n",
      "Testing RMSE:  344.28089970189075\n"
     ]
    }
   ],
   "source": [
    "print_model_scores(bike_SVR2_tuned, X_train, X_valid, X_test, y_train, y_valid, y_test)"
   ]
  },
  {
   "cell_type": "markdown",
   "metadata": {},
   "source": [
    "#### Suppor Vector Regression 3 - sigmoid kernel"
   ]
  },
  {
   "cell_type": "code",
   "execution_count": 169,
   "metadata": {},
   "outputs": [
    {
     "data": {
      "text/plain": [
       "SVR(kernel='sigmoid')"
      ]
     },
     "execution_count": 169,
     "metadata": {},
     "output_type": "execute_result"
    }
   ],
   "source": [
    "bike_SVR3 = svm.SVR(kernel=\"sigmoid\")\n",
    "bike_SVR3.fit(X_train, y_train)"
   ]
  },
  {
   "cell_type": "code",
   "execution_count": 170,
   "metadata": {},
   "outputs": [
    {
     "data": {
      "text/plain": [
       "539.6707047301923"
      ]
     },
     "execution_count": 170,
     "metadata": {},
     "output_type": "execute_result"
    }
   ],
   "source": [
    "pred = bike_SVR3.predict(X_valid)\n",
    "mean_squared_error(y_valid, pred) ** 0.5"
   ]
  },
  {
   "cell_type": "markdown",
   "metadata": {},
   "source": [
    "##### Hyperparameter Search"
   ]
  },
  {
   "cell_type": "code",
   "execution_count": 49,
   "metadata": {},
   "outputs": [],
   "source": [
    "gamma = [0.01, 0.1, 0.2, 0.5, 1]\n",
    "C = [0.01, 0.1, 1, 10, 100]\n",
    "epsilon = [0.05, 0.1, 0.15, 0.2, 0.5]\n",
    "\n",
    "train_rmse = list()\n",
    "valid_rmse = list()\n",
    "\n",
    "hyper_grid = list(itertools.product(gamma, C, epsilon))"
   ]
  },
  {
   "cell_type": "code",
   "execution_count": 50,
   "metadata": {},
   "outputs": [],
   "source": [
    "for hp in hyper_grid:\n",
    "    model = svm.SVR(kernel=\"sigmoid\", gamma=hp[0], C=hp[1], epsilon=hp[2])\n",
    "    model.fit(X_train, y_train)\n",
    "\n",
    "    pred_train = round_pred(model, X_train)\n",
    "    pred_valid = round_pred(model, X_valid)\n",
    "    \n",
    "    train_rmse.append(rmse(y_train, pred_train))\n",
    "    valid_rmse.append(rmse(y_valid, pred_valid))"
   ]
  },
  {
   "cell_type": "code",
   "execution_count": 51,
   "metadata": {},
   "outputs": [],
   "source": [
    "hyper_grid_df = pd.DataFrame(hyper_grid)\n",
    "hyper_grid_df.columns = [\"gamma\", \"C\", \"epsilon\"]\n",
    "hyper_grid_df[\"train_rmse\"] = train_rmse\n",
    "hyper_grid_df[\"valid_rmse\"] = valid_rmse"
   ]
  },
  {
   "cell_type": "markdown",
   "metadata": {},
   "source": [
    "Carica hyperparameter grid da csv:"
   ]
  },
  {
   "cell_type": "code",
   "execution_count": 4,
   "metadata": {},
   "outputs": [
    {
     "data": {
      "text/html": [
       "<div>\n",
       "<style scoped>\n",
       "    .dataframe tbody tr th:only-of-type {\n",
       "        vertical-align: middle;\n",
       "    }\n",
       "\n",
       "    .dataframe tbody tr th {\n",
       "        vertical-align: top;\n",
       "    }\n",
       "\n",
       "    .dataframe thead th {\n",
       "        text-align: right;\n",
       "    }\n",
       "</style>\n",
       "<table border=\"1\" class=\"dataframe\">\n",
       "  <thead>\n",
       "    <tr style=\"text-align: right;\">\n",
       "      <th></th>\n",
       "      <th>Unnamed: 0</th>\n",
       "      <th>gamma</th>\n",
       "      <th>C</th>\n",
       "      <th>epsilon</th>\n",
       "      <th>train_rmse</th>\n",
       "      <th>valid_rmse</th>\n",
       "    </tr>\n",
       "  </thead>\n",
       "  <tbody>\n",
       "    <tr>\n",
       "      <th>24</th>\n",
       "      <td>24</td>\n",
       "      <td>0.01</td>\n",
       "      <td>100.0</td>\n",
       "      <td>0.50</td>\n",
       "      <td>452.807393</td>\n",
       "      <td>450.752335</td>\n",
       "    </tr>\n",
       "    <tr>\n",
       "      <th>22</th>\n",
       "      <td>22</td>\n",
       "      <td>0.01</td>\n",
       "      <td>100.0</td>\n",
       "      <td>0.15</td>\n",
       "      <td>452.802490</td>\n",
       "      <td>450.778801</td>\n",
       "    </tr>\n",
       "    <tr>\n",
       "      <th>23</th>\n",
       "      <td>23</td>\n",
       "      <td>0.01</td>\n",
       "      <td>100.0</td>\n",
       "      <td>0.20</td>\n",
       "      <td>452.809224</td>\n",
       "      <td>450.783042</td>\n",
       "    </tr>\n",
       "    <tr>\n",
       "      <th>21</th>\n",
       "      <td>21</td>\n",
       "      <td>0.01</td>\n",
       "      <td>100.0</td>\n",
       "      <td>0.10</td>\n",
       "      <td>452.910485</td>\n",
       "      <td>450.888577</td>\n",
       "    </tr>\n",
       "    <tr>\n",
       "      <th>20</th>\n",
       "      <td>20</td>\n",
       "      <td>0.01</td>\n",
       "      <td>100.0</td>\n",
       "      <td>0.05</td>\n",
       "      <td>452.943177</td>\n",
       "      <td>450.937786</td>\n",
       "    </tr>\n",
       "    <tr>\n",
       "      <th>19</th>\n",
       "      <td>19</td>\n",
       "      <td>0.01</td>\n",
       "      <td>10.0</td>\n",
       "      <td>0.50</td>\n",
       "      <td>477.588154</td>\n",
       "      <td>482.202667</td>\n",
       "    </tr>\n",
       "    <tr>\n",
       "      <th>16</th>\n",
       "      <td>16</td>\n",
       "      <td>0.01</td>\n",
       "      <td>10.0</td>\n",
       "      <td>0.10</td>\n",
       "      <td>477.624962</td>\n",
       "      <td>482.241735</td>\n",
       "    </tr>\n",
       "    <tr>\n",
       "      <th>17</th>\n",
       "      <td>17</td>\n",
       "      <td>0.01</td>\n",
       "      <td>10.0</td>\n",
       "      <td>0.15</td>\n",
       "      <td>477.623065</td>\n",
       "      <td>482.245286</td>\n",
       "    </tr>\n",
       "    <tr>\n",
       "      <th>15</th>\n",
       "      <td>15</td>\n",
       "      <td>0.01</td>\n",
       "      <td>10.0</td>\n",
       "      <td>0.05</td>\n",
       "      <td>477.638387</td>\n",
       "      <td>482.250660</td>\n",
       "    </tr>\n",
       "    <tr>\n",
       "      <th>18</th>\n",
       "      <td>18</td>\n",
       "      <td>0.01</td>\n",
       "      <td>10.0</td>\n",
       "      <td>0.20</td>\n",
       "      <td>477.635414</td>\n",
       "      <td>482.252697</td>\n",
       "    </tr>\n",
       "  </tbody>\n",
       "</table>\n",
       "</div>"
      ],
      "text/plain": [
       "    Unnamed: 0  gamma      C  epsilon  train_rmse  valid_rmse\n",
       "24          24   0.01  100.0     0.50  452.807393  450.752335\n",
       "22          22   0.01  100.0     0.15  452.802490  450.778801\n",
       "23          23   0.01  100.0     0.20  452.809224  450.783042\n",
       "21          21   0.01  100.0     0.10  452.910485  450.888577\n",
       "20          20   0.01  100.0     0.05  452.943177  450.937786\n",
       "19          19   0.01   10.0     0.50  477.588154  482.202667\n",
       "16          16   0.01   10.0     0.10  477.624962  482.241735\n",
       "17          17   0.01   10.0     0.15  477.623065  482.245286\n",
       "15          15   0.01   10.0     0.05  477.638387  482.250660\n",
       "18          18   0.01   10.0     0.20  477.635414  482.252697"
      ]
     },
     "execution_count": 4,
     "metadata": {},
     "output_type": "execute_result"
    }
   ],
   "source": [
    "# hyper_grid_df.to_csv(\"models\\\\svm_sigmoid_hypergrid.csv\")\n",
    "hyper_grid_df = pd.read_csv(\"models\\\\svm_sigmoid_hypergrid.csv\")\n",
    "hyper_grid_df.sort_values(by = \"valid_rmse\").head(10)"
   ]
  },
  {
   "cell_type": "markdown",
   "metadata": {},
   "source": [
    "##### Fit best model"
   ]
  },
  {
   "cell_type": "code",
   "execution_count": 53,
   "metadata": {},
   "outputs": [
    {
     "data": {
      "text/plain": [
       "SVR(C=50, epsilon=0.5, gamma=0.01, kernel='sigmoid')"
      ]
     },
     "execution_count": 53,
     "metadata": {},
     "output_type": "execute_result"
    }
   ],
   "source": [
    "bike_SVR3_tuned = svm.SVR(kernel=\"sigmoid\", gamma=0.01, C=50, epsilon=0.5)\n",
    "bike_SVR3_tuned.fit(X_train, y_train)"
   ]
  },
  {
   "cell_type": "markdown",
   "metadata": {},
   "source": [
    "Save / Load model "
   ]
  },
  {
   "cell_type": "code",
   "execution_count": 56,
   "metadata": {},
   "outputs": [],
   "source": [
    "pkl_path = \"models\\\\bike_SVR3_tuned.pkl\"\n",
    "\n",
    "# with open(pkl_path, 'wb') as file:\n",
    "#     pickle.dump(bike_SVR3_tuned, file)\n",
    "\n",
    "with open(pkl_path, 'rb') as file:\n",
    "    bike_SVR3_tuned = pickle.load(file)"
   ]
  },
  {
   "cell_type": "markdown",
   "metadata": {},
   "source": [
    "#### RMSE"
   ]
  },
  {
   "cell_type": "code",
   "execution_count": 58,
   "metadata": {},
   "outputs": [
    {
     "name": "stdout",
     "output_type": "stream",
     "text": [
      "Training RMSE:  445.9335125750761\n",
      "Validation RMSE:  450.21146444089356\n",
      "Testing RMSE:  452.0256324307607\n"
     ]
    }
   ],
   "source": [
    "print_model_scores(bike_SVR3_tuned, X_train, X_valid, X_test, y_train, y_valid, y_test)"
   ]
  },
  {
   "cell_type": "markdown",
   "metadata": {},
   "source": [
    "#### Support Vector Regression 4 - polynomial kernel"
   ]
  },
  {
   "cell_type": "markdown",
   "metadata": {},
   "source": [
    "##### Default Model"
   ]
  },
  {
   "cell_type": "code",
   "execution_count": 36,
   "metadata": {},
   "outputs": [
    {
     "data": {
      "text/plain": [
       "SVR(degree=2, kernel='poly')"
      ]
     },
     "execution_count": 36,
     "metadata": {},
     "output_type": "execute_result"
    }
   ],
   "source": [
    "bike_SVR4 = svm.SVR(kernel=\"poly\", degree=2)\n",
    "bike_SVR4.fit(X_train, y_train)"
   ]
  },
  {
   "cell_type": "code",
   "execution_count": 37,
   "metadata": {},
   "outputs": [
    {
     "name": "stdout",
     "output_type": "stream",
     "text": [
      "Training RMSE:  621.7912259612677\n",
      "Validation RMSE:  622.8708489592332\n",
      "Testing RMSE:  629.0123300981668\n"
     ]
    }
   ],
   "source": [
    "print_model_scores(bike_SVR4, X_train, X_valid, X_test, y_train, y_valid, y_test)"
   ]
  },
  {
   "cell_type": "markdown",
   "metadata": {},
   "source": [
    "##### Hyperparameter Search"
   ]
  },
  {
   "cell_type": "code",
   "execution_count": 38,
   "metadata": {},
   "outputs": [],
   "source": [
    "degrees = [2, 3, 4, 5]\n",
    "C = [0.01, 0.1, 1, 10, 100]\n",
    "epsilon = [0.05, 0.1, 0.15, 0.2, 0.5]\n",
    "\n",
    "train_rmse = list()\n",
    "valid_rmse = list()\n",
    "\n",
    "hyper_grid = list(itertools.product(degrees, C, epsilon))"
   ]
  },
  {
   "cell_type": "code",
   "execution_count": 39,
   "metadata": {},
   "outputs": [],
   "source": [
    "for hp in hyper_grid:\n",
    "    model = svm.SVR(kernel=\"poly\", degree=hp[0], C=hp[1], epsilon=hp[2])\n",
    "    model.fit(X_train, y_train)\n",
    "\n",
    "    pred_train = round_pred(model, X_train)\n",
    "    pred_valid = round_pred(model, X_valid)\n",
    "    \n",
    "    train_rmse.append(rmse(y_train, pred_train))\n",
    "    valid_rmse.append(rmse(y_valid, pred_valid))"
   ]
  },
  {
   "cell_type": "code",
   "execution_count": 41,
   "metadata": {},
   "outputs": [],
   "source": [
    "hyper_grid_df = pd.DataFrame(hyper_grid)\n",
    "hyper_grid_df.columns = [\"degrees\", \"C\", \"epsilon\"]\n",
    "hyper_grid_df[\"train_rmse\"] = train_rmse\n",
    "hyper_grid_df[\"valid_rmse\"] = valid_rmse"
   ]
  },
  {
   "cell_type": "markdown",
   "metadata": {},
   "source": [
    "Carica hyperparameter grid da csv:"
   ]
  },
  {
   "cell_type": "code",
   "execution_count": 5,
   "metadata": {},
   "outputs": [
    {
     "data": {
      "text/html": [
       "<div>\n",
       "<style scoped>\n",
       "    .dataframe tbody tr th:only-of-type {\n",
       "        vertical-align: middle;\n",
       "    }\n",
       "\n",
       "    .dataframe tbody tr th {\n",
       "        vertical-align: top;\n",
       "    }\n",
       "\n",
       "    .dataframe thead th {\n",
       "        text-align: right;\n",
       "    }\n",
       "</style>\n",
       "<table border=\"1\" class=\"dataframe\">\n",
       "  <thead>\n",
       "    <tr style=\"text-align: right;\">\n",
       "      <th></th>\n",
       "      <th>Unnamed: 0</th>\n",
       "      <th>degrees</th>\n",
       "      <th>C</th>\n",
       "      <th>epsilon</th>\n",
       "      <th>train_rmse</th>\n",
       "      <th>valid_rmse</th>\n",
       "    </tr>\n",
       "  </thead>\n",
       "  <tbody>\n",
       "    <tr>\n",
       "      <th>46</th>\n",
       "      <td>46</td>\n",
       "      <td>3</td>\n",
       "      <td>100.0</td>\n",
       "      <td>0.10</td>\n",
       "      <td>356.270512</td>\n",
       "      <td>369.100500</td>\n",
       "    </tr>\n",
       "    <tr>\n",
       "      <th>45</th>\n",
       "      <td>45</td>\n",
       "      <td>3</td>\n",
       "      <td>100.0</td>\n",
       "      <td>0.05</td>\n",
       "      <td>356.269215</td>\n",
       "      <td>369.103982</td>\n",
       "    </tr>\n",
       "    <tr>\n",
       "      <th>48</th>\n",
       "      <td>48</td>\n",
       "      <td>3</td>\n",
       "      <td>100.0</td>\n",
       "      <td>0.20</td>\n",
       "      <td>356.269152</td>\n",
       "      <td>369.104666</td>\n",
       "    </tr>\n",
       "    <tr>\n",
       "      <th>49</th>\n",
       "      <td>49</td>\n",
       "      <td>3</td>\n",
       "      <td>100.0</td>\n",
       "      <td>0.50</td>\n",
       "      <td>356.259782</td>\n",
       "      <td>369.104857</td>\n",
       "    </tr>\n",
       "    <tr>\n",
       "      <th>47</th>\n",
       "      <td>47</td>\n",
       "      <td>3</td>\n",
       "      <td>100.0</td>\n",
       "      <td>0.15</td>\n",
       "      <td>356.271913</td>\n",
       "      <td>369.110253</td>\n",
       "    </tr>\n",
       "    <tr>\n",
       "      <th>74</th>\n",
       "      <td>74</td>\n",
       "      <td>4</td>\n",
       "      <td>100.0</td>\n",
       "      <td>0.50</td>\n",
       "      <td>369.068709</td>\n",
       "      <td>404.620124</td>\n",
       "    </tr>\n",
       "    <tr>\n",
       "      <th>73</th>\n",
       "      <td>73</td>\n",
       "      <td>4</td>\n",
       "      <td>100.0</td>\n",
       "      <td>0.20</td>\n",
       "      <td>369.066028</td>\n",
       "      <td>404.703828</td>\n",
       "    </tr>\n",
       "    <tr>\n",
       "      <th>72</th>\n",
       "      <td>72</td>\n",
       "      <td>4</td>\n",
       "      <td>100.0</td>\n",
       "      <td>0.15</td>\n",
       "      <td>369.065289</td>\n",
       "      <td>404.727099</td>\n",
       "    </tr>\n",
       "    <tr>\n",
       "      <th>71</th>\n",
       "      <td>71</td>\n",
       "      <td>4</td>\n",
       "      <td>100.0</td>\n",
       "      <td>0.10</td>\n",
       "      <td>369.064539</td>\n",
       "      <td>404.740398</td>\n",
       "    </tr>\n",
       "    <tr>\n",
       "      <th>70</th>\n",
       "      <td>70</td>\n",
       "      <td>4</td>\n",
       "      <td>100.0</td>\n",
       "      <td>0.05</td>\n",
       "      <td>369.061715</td>\n",
       "      <td>404.754067</td>\n",
       "    </tr>\n",
       "  </tbody>\n",
       "</table>\n",
       "</div>"
      ],
      "text/plain": [
       "    Unnamed: 0  degrees      C  epsilon  train_rmse  valid_rmse\n",
       "46          46        3  100.0     0.10  356.270512  369.100500\n",
       "45          45        3  100.0     0.05  356.269215  369.103982\n",
       "48          48        3  100.0     0.20  356.269152  369.104666\n",
       "49          49        3  100.0     0.50  356.259782  369.104857\n",
       "47          47        3  100.0     0.15  356.271913  369.110253\n",
       "74          74        4  100.0     0.50  369.068709  404.620124\n",
       "73          73        4  100.0     0.20  369.066028  404.703828\n",
       "72          72        4  100.0     0.15  369.065289  404.727099\n",
       "71          71        4  100.0     0.10  369.064539  404.740398\n",
       "70          70        4  100.0     0.05  369.061715  404.754067"
      ]
     },
     "execution_count": 5,
     "metadata": {},
     "output_type": "execute_result"
    }
   ],
   "source": [
    "# hyper_grid_df.to_csv(\"models\\\\svm_poly_hypergrid.csv\")\n",
    "hyper_grid_df = pd.read_csv(\"models\\\\svm_poly_hypergrid.csv\")\n",
    "hyper_grid_df.sort_values(by = \"valid_rmse\").head(10)"
   ]
  },
  {
   "cell_type": "markdown",
   "metadata": {},
   "source": [
    "##### Fit best model"
   ]
  },
  {
   "cell_type": "code",
   "execution_count": 45,
   "metadata": {},
   "outputs": [
    {
     "data": {
      "text/plain": [
       "SVR(C=100, epsilon=0.5, kernel='poly')"
      ]
     },
     "execution_count": 45,
     "metadata": {},
     "output_type": "execute_result"
    }
   ],
   "source": [
    "bike_SVR4_tuned = svm.SVR(kernel=\"poly\", degree=3, C=100, epsilon=0.5)\n",
    "bike_SVR4_tuned.fit(X_train, y_train)"
   ]
  },
  {
   "cell_type": "markdown",
   "metadata": {},
   "source": [
    "Save/Load model"
   ]
  },
  {
   "cell_type": "code",
   "execution_count": 140,
   "metadata": {},
   "outputs": [],
   "source": [
    "pkl_path = \"models\\\\bike_SVR4_tuned.pkl\"\n",
    "\n",
    "# with open(pkl_path, 'wb') as file:\n",
    "#     pickle.dump(bike_SVR2, file)\n",
    "\n",
    "with open(pkl_path, 'rb') as file:\n",
    "    bike_SVR4_tuned = pickle.load(file)"
   ]
  },
  {
   "cell_type": "markdown",
   "metadata": {},
   "source": [
    "#### RMSE"
   ]
  },
  {
   "cell_type": "code",
   "execution_count": 48,
   "metadata": {},
   "outputs": [
    {
     "name": "stdout",
     "output_type": "stream",
     "text": [
      "Training RMSE:  356.2597823268401\n",
      "Validation RMSE:  369.10485730753425\n",
      "Testing RMSE:  377.59485034169387\n"
     ]
    }
   ],
   "source": [
    "print_model_scores(bike_SVR4_tuned, X_train, X_valid, X_test, y_train, y_valid, y_test)"
   ]
  },
  {
   "cell_type": "markdown",
   "metadata": {},
   "source": [
    "## Support Vector Regression - selected predictors"
   ]
  },
  {
   "cell_type": "markdown",
   "metadata": {},
   "source": [
    "Converti i dati in array numpy:"
   ]
  },
  {
   "cell_type": "code",
   "execution_count": 59,
   "metadata": {},
   "outputs": [],
   "source": [
    "y_col = \"rented_bike_count\"\n",
    "X_col = [\"hour\", \"temperature\", \"humidity\", \"functioning_day_Yes\", \"seasons_Winter\", \n",
    "\"dew_point_temperature\", \"solar_radiation\", \"rainfall\"]\n",
    "\n",
    "X_train, y_train = np.array(bike_train[X_col]), np.array(bike_train[y_col])\n",
    "X_test, y_test = np.array(bike_test[X_col]), np.array(bike_test[y_col])\n",
    "X_valid, y_valid = np.array(bike_valid[X_col]), np.array(bike_valid[y_col])\n",
    "\n",
    "scaler = StandardScaler()\n",
    "X_train = scaler.fit_transform(X_train)\n",
    "X_valid = scaler.transform(X_valid)\n",
    "X_test = scaler.transform(X_test)"
   ]
  },
  {
   "cell_type": "markdown",
   "metadata": {},
   "source": [
    "#### Suppor Vector Regression - rbf kernel"
   ]
  },
  {
   "cell_type": "markdown",
   "metadata": {},
   "source": [
    "##### Default model"
   ]
  },
  {
   "cell_type": "code",
   "execution_count": 60,
   "metadata": {},
   "outputs": [
    {
     "data": {
      "text/plain": [
       "SVR()"
      ]
     },
     "execution_count": 60,
     "metadata": {},
     "output_type": "execute_result"
    }
   ],
   "source": [
    "bike_SVR5 = svm.SVR(kernel=\"rbf\")\n",
    "bike_SVR5.fit(X_train, y_train)"
   ]
  },
  {
   "cell_type": "code",
   "execution_count": 61,
   "metadata": {},
   "outputs": [
    {
     "name": "stdout",
     "output_type": "stream",
     "text": [
      "Training RMSE:  470.84079212621964\n",
      "Validation RMSE:  472.55705737973193\n",
      "Testing RMSE:  479.465597444092\n"
     ]
    }
   ],
   "source": [
    "print_model_scores(bike_SVR5, X_train, X_valid, X_test, y_train, y_valid, y_test)"
   ]
  },
  {
   "cell_type": "markdown",
   "metadata": {},
   "source": [
    "##### Hyperparameter Search"
   ]
  },
  {
   "cell_type": "code",
   "execution_count": 62,
   "metadata": {},
   "outputs": [],
   "source": [
    "gamma = [0.01, 0.1, 0.2, 0.5, 1]\n",
    "C = [0.01, 0.1, 1, 10, 100]\n",
    "epsilon = [0.05, 0.1, 0.15, 0.2, 0.5]\n",
    "\n",
    "train_rmse = list()\n",
    "valid_rmse = list()\n",
    "\n",
    "hyper_grid = list(itertools.product(gamma, C, epsilon))"
   ]
  },
  {
   "cell_type": "code",
   "execution_count": 63,
   "metadata": {},
   "outputs": [],
   "source": [
    "for hp in hyper_grid:\n",
    "    model = svm.SVR(kernel=\"rbf\", gamma=hp[0], C=hp[1], epsilon=hp[2])\n",
    "    model.fit(X_train, y_train)\n",
    "\n",
    "    pred_train = round_pred(model, X_train)\n",
    "    pred_valid = round_pred(model, X_valid)\n",
    "    \n",
    "    train_rmse.append(rmse(y_train, pred_train))\n",
    "    valid_rmse.append(rmse(y_valid, pred_valid))"
   ]
  },
  {
   "cell_type": "markdown",
   "metadata": {},
   "source": [
    "Carica hyperparameter grid da csv:"
   ]
  },
  {
   "cell_type": "code",
   "execution_count": 64,
   "metadata": {},
   "outputs": [],
   "source": [
    "hyper_grid_df = pd.DataFrame(hyper_grid)\n",
    "hyper_grid_df.columns = [\"gamma\", \"C\", \"epsilon\"]\n",
    "hyper_grid_df[\"train_rmse\"] = train_rmse\n",
    "hyper_grid_df[\"valid_rmse\"] = valid_rmse"
   ]
  },
  {
   "cell_type": "code",
   "execution_count": 6,
   "metadata": {},
   "outputs": [
    {
     "data": {
      "text/html": [
       "<div>\n",
       "<style scoped>\n",
       "    .dataframe tbody tr th:only-of-type {\n",
       "        vertical-align: middle;\n",
       "    }\n",
       "\n",
       "    .dataframe tbody tr th {\n",
       "        vertical-align: top;\n",
       "    }\n",
       "\n",
       "    .dataframe thead th {\n",
       "        text-align: right;\n",
       "    }\n",
       "</style>\n",
       "<table border=\"1\" class=\"dataframe\">\n",
       "  <thead>\n",
       "    <tr style=\"text-align: right;\">\n",
       "      <th></th>\n",
       "      <th>Unnamed: 0</th>\n",
       "      <th>gamma</th>\n",
       "      <th>C</th>\n",
       "      <th>epsilon</th>\n",
       "      <th>train_rmse</th>\n",
       "      <th>valid_rmse</th>\n",
       "    </tr>\n",
       "  </thead>\n",
       "  <tbody>\n",
       "    <tr>\n",
       "      <th>123</th>\n",
       "      <td>123</td>\n",
       "      <td>1.0</td>\n",
       "      <td>100.0</td>\n",
       "      <td>0.20</td>\n",
       "      <td>277.465370</td>\n",
       "      <td>286.647302</td>\n",
       "    </tr>\n",
       "    <tr>\n",
       "      <th>124</th>\n",
       "      <td>124</td>\n",
       "      <td>1.0</td>\n",
       "      <td>100.0</td>\n",
       "      <td>0.50</td>\n",
       "      <td>277.462064</td>\n",
       "      <td>286.649331</td>\n",
       "    </tr>\n",
       "    <tr>\n",
       "      <th>122</th>\n",
       "      <td>122</td>\n",
       "      <td>1.0</td>\n",
       "      <td>100.0</td>\n",
       "      <td>0.15</td>\n",
       "      <td>277.466526</td>\n",
       "      <td>286.657623</td>\n",
       "    </tr>\n",
       "    <tr>\n",
       "      <th>121</th>\n",
       "      <td>121</td>\n",
       "      <td>1.0</td>\n",
       "      <td>100.0</td>\n",
       "      <td>0.10</td>\n",
       "      <td>277.465228</td>\n",
       "      <td>286.661077</td>\n",
       "    </tr>\n",
       "    <tr>\n",
       "      <th>120</th>\n",
       "      <td>120</td>\n",
       "      <td>1.0</td>\n",
       "      <td>100.0</td>\n",
       "      <td>0.05</td>\n",
       "      <td>277.457963</td>\n",
       "      <td>286.663608</td>\n",
       "    </tr>\n",
       "    <tr>\n",
       "      <th>99</th>\n",
       "      <td>99</td>\n",
       "      <td>0.5</td>\n",
       "      <td>100.0</td>\n",
       "      <td>0.50</td>\n",
       "      <td>295.401647</td>\n",
       "      <td>300.079553</td>\n",
       "    </tr>\n",
       "    <tr>\n",
       "      <th>98</th>\n",
       "      <td>98</td>\n",
       "      <td>0.5</td>\n",
       "      <td>100.0</td>\n",
       "      <td>0.20</td>\n",
       "      <td>295.413063</td>\n",
       "      <td>300.085728</td>\n",
       "    </tr>\n",
       "    <tr>\n",
       "      <th>96</th>\n",
       "      <td>96</td>\n",
       "      <td>0.5</td>\n",
       "      <td>100.0</td>\n",
       "      <td>0.10</td>\n",
       "      <td>295.423729</td>\n",
       "      <td>300.108520</td>\n",
       "    </tr>\n",
       "    <tr>\n",
       "      <th>95</th>\n",
       "      <td>95</td>\n",
       "      <td>0.5</td>\n",
       "      <td>100.0</td>\n",
       "      <td>0.05</td>\n",
       "      <td>295.426565</td>\n",
       "      <td>300.109179</td>\n",
       "    </tr>\n",
       "    <tr>\n",
       "      <th>97</th>\n",
       "      <td>97</td>\n",
       "      <td>0.5</td>\n",
       "      <td>100.0</td>\n",
       "      <td>0.15</td>\n",
       "      <td>295.414636</td>\n",
       "      <td>300.112956</td>\n",
       "    </tr>\n",
       "  </tbody>\n",
       "</table>\n",
       "</div>"
      ],
      "text/plain": [
       "     Unnamed: 0  gamma      C  epsilon  train_rmse  valid_rmse\n",
       "123         123    1.0  100.0     0.20  277.465370  286.647302\n",
       "124         124    1.0  100.0     0.50  277.462064  286.649331\n",
       "122         122    1.0  100.0     0.15  277.466526  286.657623\n",
       "121         121    1.0  100.0     0.10  277.465228  286.661077\n",
       "120         120    1.0  100.0     0.05  277.457963  286.663608\n",
       "99           99    0.5  100.0     0.50  295.401647  300.079553\n",
       "98           98    0.5  100.0     0.20  295.413063  300.085728\n",
       "96           96    0.5  100.0     0.10  295.423729  300.108520\n",
       "95           95    0.5  100.0     0.05  295.426565  300.109179\n",
       "97           97    0.5  100.0     0.15  295.414636  300.112956"
      ]
     },
     "execution_count": 6,
     "metadata": {},
     "output_type": "execute_result"
    }
   ],
   "source": [
    "# hyper_grid_df.to_csv(\"models\\\\svm5_hypergrid.csv\")\n",
    "hyper_grid_df = pd.read_csv(\"models\\\\svm5_hypergrid.csv\")\n",
    "hyper_grid_df.sort_values(by = \"valid_rmse\").head(10)"
   ]
  },
  {
   "cell_type": "markdown",
   "metadata": {},
   "source": [
    "#### Fit Best Model"
   ]
  },
  {
   "cell_type": "code",
   "execution_count": 67,
   "metadata": {},
   "outputs": [
    {
     "data": {
      "text/plain": [
       "SVR(C=100, epsilon=0.2, gamma=1.0)"
      ]
     },
     "execution_count": 67,
     "metadata": {},
     "output_type": "execute_result"
    }
   ],
   "source": [
    "bike_SVR5_tuned = svm.SVR(kernel=\"rbf\", gamma=1.0, C=100, epsilon=0.2)\n",
    "bike_SVR5_tuned.fit(X_train, y_train)"
   ]
  },
  {
   "cell_type": "markdown",
   "metadata": {},
   "source": [
    "Save/Load model"
   ]
  },
  {
   "cell_type": "code",
   "execution_count": 69,
   "metadata": {},
   "outputs": [],
   "source": [
    "pkl_path = \"models\\\\bike_SVR5_tuned.pkl\"\n",
    "\n",
    "# with open(pkl_path, 'wb') as file:\n",
    "#     pickle.dump(bike_SVR5_tuned, file)\n",
    "\n",
    "with open(pkl_path, 'rb') as file:\n",
    "    bike_SVR5_tuned = pickle.load(file)"
   ]
  },
  {
   "cell_type": "markdown",
   "metadata": {},
   "source": [
    "#### RMSE"
   ]
  },
  {
   "cell_type": "code",
   "execution_count": 71,
   "metadata": {},
   "outputs": [
    {
     "name": "stdout",
     "output_type": "stream",
     "text": [
      "Training RMSE:  277.46537000541804\n",
      "Validation RMSE:  286.6473023892358\n",
      "Testing RMSE:  280.0651343028168\n"
     ]
    }
   ],
   "source": [
    "print_model_scores(bike_SVR5_tuned, X_train, X_valid, X_test, y_train, y_valid, y_test)"
   ]
  }
 ],
 "metadata": {
  "interpreter": {
   "hash": "110a4ad9b3b23ac6a757cfb6c77f1e39e8d0496598f07ec14a944919c025e818"
  },
  "kernelspec": {
   "display_name": "Python 3.10.4 64-bit",
   "language": "python",
   "name": "python3"
  },
  "language_info": {
   "codemirror_mode": {
    "name": "ipython",
    "version": 3
   },
   "file_extension": ".py",
   "mimetype": "text/x-python",
   "name": "python",
   "nbconvert_exporter": "python",
   "pygments_lexer": "ipython3",
   "version": "3.10.4"
  },
  "orig_nbformat": 4
 },
 "nbformat": 4,
 "nbformat_minor": 2
}
